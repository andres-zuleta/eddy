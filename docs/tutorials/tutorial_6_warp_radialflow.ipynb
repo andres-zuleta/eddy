{
 "cells": [
  {
   "cell_type": "markdown",
   "metadata": {},
   "source": [
    "### Loading up the data"
   ]
  },
  {
   "cell_type": "code",
   "execution_count": 6,
   "metadata": {},
   "outputs": [],
   "source": [
    "import matplotlib.pyplot as plt\n",
    "from eddy import rotationmap\n",
    "import numpy as np"
   ]
  },
  {
   "cell_type": "markdown",
   "metadata": {},
   "source": [
    "## Radial flow"
   ]
  },
  {
   "cell_type": "code",
   "execution_count": null,
   "metadata": {},
   "outputs": [],
   "source": [
    "path = '../../data/cubeRF_inc25.0_PA0.0_exoALMA0.03FWHM_synthetic_gv0.fits'\n",
    "uncertainty = '../../data/cubeRF_inc25.0_PA0.0_exoALMA0.03FWHM_synthetic_dgv0.fits'\n",
    "\n",
    "cube = rotationmap(path=path,\n",
    "                   uncertainty=uncertainty)\n",
    "\n",
    "cube.plot_data(-3000, 3000)"
   ]
  },
  {
   "cell_type": "markdown",
   "metadata": {},
   "source": [
    "### A 2D Fit"
   ]
  },
  {
   "cell_type": "code",
   "execution_count": 8,
   "metadata": {},
   "outputs": [],
   "source": [
    "from multiprocessing import Pool"
   ]
  },
  {
   "cell_type": "code",
   "execution_count": 13,
   "metadata": {},
   "outputs": [],
   "source": [
    "# Dictionary to contain the disk parameters.\n",
    "params = {}\n",
    "\n",
    "# Start with the free variables in p0.\n",
    "params['x0'] = 0.0\n",
    "params['y0'] = 0.0\n",
    "params['vlsr'] = 0.\n",
    "params['dist'] = 140. # parsec\n",
    "params['PA'] = 0\n",
    "params['inc'] = 1\n",
    "params['mstar'] = 1.0\n",
    "\n",
    "#\n",
    "params['r_max'] = 0.7\n",
    "params['r_min'] = 0.08\n",
    "\n",
    "# Radial flow parameters\n",
    "params['method'] = 'SKY'\n",
    "params['w_i'] = None # Must be set to None when only fitting the radial flow parameters\n",
    "params['w_t'] = None\n",
    "params['chi_r0'] = 2\n",
    "params['chi_dr'] = 3\n",
    "\n",
    "p0 = [0.0, 25.0, 0.2857, 0.1478]\n",
    "\n",
    "# Surface parameters\n",
    "params['z0'] = 0.0\n",
    "params['psi'] = 1.0\n",
    "\n",
    "# Specify the model type\n",
    "params['model_type'] = 'F'"
   ]
  },
  {
   "cell_type": "code",
   "execution_count": null,
   "metadata": {},
   "outputs": [],
   "source": [
    "with Pool(processes=16) as pool:\n",
    "    samples = cube.fit_map(p0=p0, params=params,\n",
    "                           nwalkers=32, nburnin=200, nsteps=300,\n",
    "                           pool=pool, optimize=False,niter=1)"
   ]
  },
  {
   "cell_type": "markdown",
   "metadata": {},
   "source": [
    "A surface can be fitted the same way as explained in [tutorial 2](https://eddy.readthedocs.io/en/latest/tutorials/tutorial_2.html), though that will slow down the fitting process."
   ]
  },
  {
   "cell_type": "markdown",
   "metadata": {},
   "source": [
    "### Save the model and samples"
   ]
  },
  {
   "cell_type": "code",
   "execution_count": null,
   "metadata": {},
   "outputs": [],
   "source": [
    "cube.save_model(samples=samples, params=params)\n",
    "np.savetxt('samples_radialFlow_0.03FWHM.txt', samples, delimiter=',')"
   ]
  },
  {
   "cell_type": "markdown",
   "metadata": {},
   "source": [
    "## Warp"
   ]
  },
  {
   "cell_type": "markdown",
   "metadata": {},
   "source": [
    "Similarly, a warp can be defined by specifying the model type and the parameters defining the warp distinct to `None`."
   ]
  },
  {
   "cell_type": "code",
   "execution_count": null,
   "metadata": {},
   "outputs": [],
   "source": [
    "path = '../../data/cubeW_tilt35.0_twist-45.0_r040.0_dr20.0_exoALMA0.03FWHM_synthetic_gv0.fits'\n",
    "uncertainty = '../../data/cubeW_tilt35.0_twist-45.0_r040.0_dr20.0_exoALMA0.03FWHM_synthetic_dgv0.fits'\n",
    "\n",
    "cube = rotationmap(path=path,\n",
    "                   uncertainty=uncertainty)\n",
    "\n",
    "cube.plot_data(-3000, 3000)"
   ]
  },
  {
   "cell_type": "code",
   "execution_count": null,
   "metadata": {},
   "outputs": [],
   "source": [
    "# Dictionary to contain the disk parameters.\n",
    "params = {}\n",
    "\n",
    "# Start with the free variables in p0.\n",
    "params['x0'] = 0.0\n",
    "params['y0'] = 0.0\n",
    "params['vlsr'] = 0.\n",
    "params['dist'] = 140. # parsec\n",
    "params['PA'] = 0.0\n",
    "params['inc'] = 25.0\n",
    "params['mstar'] = 1.0\n",
    "\n",
    "#\n",
    "params['r_max'] = 0.7\n",
    "params['r_min'] = 0.1\n",
    "\n",
    "# Warp parameters\n",
    "params['method'] = 'SKY'\n",
    "params['w_i'] = 0#\n",
    "params['w_t'] = 1#\n",
    "params['w_r0'] = 2#\n",
    "params['w_dr'] = 3#\n",
    "\n",
    "p0 = [35.0, -45.0, 0.2857, 0.1478]\n",
    "\n",
    "# Surface parameters\n",
    "params['z0'] = 0.0\n",
    "params['psi'] = 1.0\n",
    "\n",
    "# Specify the model type\n",
    "params['model_type'] = 'W'"
   ]
  },
  {
   "cell_type": "code",
   "execution_count": null,
   "metadata": {},
   "outputs": [],
   "source": [
    "with Pool(processes=16) as pool:\n",
    "    samples = cube.fit_map(p0=p0, params=params,\n",
    "                           nwalkers=32, nburnin=1000, nsteps=1000,\n",
    "                           pool=pool, optimize=False,niter=1)"
   ]
  },
  {
   "cell_type": "code",
   "execution_count": null,
   "metadata": {},
   "outputs": [],
   "source": [
    "cube.save_model(samples=samples, params=params)\n",
    "np.savetxt(\"samples_warp_0.03FWHM.txt\",samples,delimiter=',')"
   ]
  },
  {
   "cell_type": "markdown",
   "metadata": {},
   "source": [
    "---"
   ]
  },
  {
   "cell_type": "markdown",
   "metadata": {},
   "source": [
    "A model contained a warp and radial flow can be fitted by setting `params['model_type'] = 'WF'`."
   ]
  }
 ],
 "metadata": {
  "kernelspec": {
   "display_name": "base",
   "language": "python",
   "name": "python3"
  },
  "language_info": {
   "codemirror_mode": {
    "name": "ipython",
    "version": 3
   },
   "file_extension": ".py",
   "mimetype": "text/x-python",
   "name": "python",
   "nbconvert_exporter": "python",
   "pygments_lexer": "ipython3",
   "version": "3.9.7"
  }
 },
 "nbformat": 4,
 "nbformat_minor": 2
}
